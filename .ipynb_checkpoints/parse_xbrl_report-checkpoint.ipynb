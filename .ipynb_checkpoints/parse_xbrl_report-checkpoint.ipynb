{
 "cells": [
  {
   "cell_type": "code",
   "execution_count": 2,
   "id": "26c3c5ec-70a8-4541-9cfc-fee77a586317",
   "metadata": {},
   "outputs": [],
   "source": [
    "from bs4 import BeautifulSoup\n",
    "import json\n",
    "import re"
   ]
  },
  {
   "cell_type": "code",
   "execution_count": 86,
   "id": "fafa3a97-a8f6-4481-8395-32d067777428",
   "metadata": {},
   "outputs": [
    {
     "name": "stderr",
     "output_type": "stream",
     "text": [
      "/tmp/ipykernel_4182294/332083335.py:7: XMLParsedAsHTMLWarning: It looks like you're parsing an XML document using an HTML parser. If this really is an HTML document (maybe it's XHTML?), you can ignore or filter this warning. If it's XML, you should know that using an XML parser will be more reliable. To parse this document as XML, make sure you have the lxml package installed, and pass the keyword argument `features=\"xml\"` into the BeautifulSoup constructor.\n",
      "  soup = BeautifulSoup(content, \"lxml\")\n"
     ]
    }
   ],
   "source": [
    "# 读取文件内容\n",
    "file_path = \"report_data/aapl-20240928.htm\"\n",
    "with open(file_path, \"r\", encoding=\"utf-8\") as file:\n",
    "    content = file.read()\n",
    "\n",
    "# 解析 HTML\n",
    "soup = BeautifulSoup(content, \"lxml\")\n",
    "\n",
    "# 解析文本数据\n",
    "def extract_text_data(soup):\n",
    "    extracted_data = []\n",
    "    seen_texts = set()\n",
    "    \n",
    "    for element in soup.find_all([\"p\", \"div\", \"span\"]):\n",
    "        text = element.get_text(separator=\" \", strip=True)\n",
    "\n",
    "        inside_table_cell = element.find_parent([\"td\", \"th\"]) is not None\n",
    "        recursive_option = False if inside_table_cell else True\n",
    "\n",
    "        # 查找 ix:nonFraction，且 name 必须以 us-gaap: 开头\n",
    "        numeric_entities = []\n",
    "        seen = {}\n",
    "        \n",
    "        for non_fraction in element.find_all(\"ix:nonfraction\",recursive=recursive_option):\n",
    "            if not non_fraction.find(\"ix:nonfraction\"):\n",
    "                concept = non_fraction.get(\"name\", \"None\")\n",
    "                value = non_fraction.text.strip().replace(\",\", \"\")\n",
    "\n",
    "                if concept.startswith(\"us-gaap:\"):  # **确保 concept 是 us-gaap: 开头**\n",
    "                    if value != \"\":\n",
    "                        if (value, concept) not in seen:\n",
    "                            seen[(value, concept)] = True\n",
    "                            numeric_entities.append({\"value\": value, \"concept\": concept})\n",
    "        \n",
    "        # 仅当满足 (ix:nonFraction 且 us-gaap concept) 时才加入，否则填充 None\n",
    "        if numeric_entities and len(text) > 20 and text not in seen_texts:\n",
    "            seen_texts.add(text)\n",
    "            extracted_data.append({\n",
    "                \"text\": text,\n",
    "                \"numeric_entities\": numeric_entities\n",
    "            })\n",
    "    \n",
    "    return extracted_data\n",
    "\n",
    "# # 解析表格数据\n",
    "# def extract_table_data(soup):\n",
    "#     tables_data = []\n",
    "    \n",
    "#     for cell in soup.find_all([\"td\", \"th\", ]):  # 只解析表格中的单元格\n",
    "#         text = cell.get_text(separator=\" \", strip=True)\n",
    "        \n",
    "#         # inside_table_cell = element.find_parent([\"td\", \"th\"]) is not None\n",
    "#         # recursive_option = True if inside_table_cell else False\n",
    "\n",
    "#         # 查找 ix:nonFraction，且 name 必须以 us-gaap: 开头\n",
    "#         numeric_entities = []\n",
    "#         seen = {}  # 避免重复 value-concept 组合\n",
    "        \n",
    "#         for non_fraction in cell.find_all(\"ix:nonfraction\", recursive=False):  \n",
    "#             if not non_fraction.find(\"ix:nonfraction\"):  # 仅解析最内层的 <ix:nonFraction>\n",
    "#                 concept = non_fraction.get(\"name\", \"None\")\n",
    "#                 value = non_fraction.text.strip().replace(\",\", \"\")\n",
    "\n",
    "#                 if concept.startswith(\"us-gaap:\") and value:  # 仅记录 us-gaap 相关数值\n",
    "#                     if (value, concept) not in seen:  # 避免重复，但保留原始顺序\n",
    "#                         seen[(value, concept)] = True\n",
    "#                         numeric_entities.append({\"value\": value, \"concept\": concept})\n",
    "        \n",
    "#         # 仅当满足 (ix:nonFraction 且 us-gaap concept) 时才加入，否则填充 None\n",
    "#         if numeric_entities and len(text) > 20:\n",
    "#             tables_data.append({\n",
    "#                 \"text\": text,\n",
    "#                 \"numeric_entities\": numeric_entities\n",
    "#             })\n",
    "    \n",
    "#     return tables_data"
   ]
  },
  {
   "cell_type": "code",
   "execution_count": 87,
   "id": "f0d99437-c6bb-45a6-983d-96071effaa65",
   "metadata": {},
   "outputs": [],
   "source": [
    "# def parse2sentence()"
   ]
  },
  {
   "cell_type": "code",
   "execution_count": 88,
   "id": "a247d1ea-c879-4bb4-b3ae-0ed1a06d4b79",
   "metadata": {},
   "outputs": [],
   "source": [
    "text_data = extract_text_data(soup)\n",
    "# table_data = extract_table_data(soup)"
   ]
  },
  {
   "cell_type": "code",
   "execution_count": 89,
   "id": "bda33832-dfdd-4315-a30f-a0529181b9dd",
   "metadata": {},
   "outputs": [],
   "source": [
    "with open(\"result.json\", \"w\") as f:\n",
    "    json.dump({\n",
    "    \"text_data\": text_data,\n",
    "    # \"table_data\": table_data\n",
    "}, f,indent=4, ensure_ascii=False)"
   ]
  },
  {
   "cell_type": "code",
   "execution_count": 90,
   "id": "2c18df9b-6b0c-4b3c-a19e-f6d9765856a8",
   "metadata": {},
   "outputs": [
    {
     "data": {
      "text/plain": [
       "61"
      ]
     },
     "execution_count": 90,
     "metadata": {},
     "output_type": "execute_result"
    }
   ],
   "source": [
    "len(text_data)"
   ]
  },
  {
   "cell_type": "code",
   "execution_count": 119,
   "id": "79534b9a-de77-42bd-bf53-0605b1b91ad9",
   "metadata": {},
   "outputs": [
    {
     "data": {
      "text/plain": [
       "'88,531'"
      ]
     },
     "execution_count": 119,
     "metadata": {},
     "output_type": "execute_result"
    }
   ],
   "source": [
    "text"
   ]
  },
  {
   "cell_type": "code",
   "execution_count": 120,
   "id": "d917f0f6-932f-4ff5-bf49-c39d617d814d",
   "metadata": {},
   "outputs": [
    {
     "data": {
      "text/plain": [
       "'<div style=\"text-align:justify\"><table style=\"border-collapse:collapse;display:inline-table;margin-bottom:5pt;vertical-align:text-bottom;width:100.000%\"><tr><td style=\"width:1.0%\"></td><td style=\"width:59.280%\"></td><td style=\"width:0.1%\"></td><td style=\"width:1.0%\"></td><td style=\"width:11.619%\"></td><td style=\"width:0.1%\"></td><td style=\"width:0.1%\"></td><td style=\"width:0.530%\"></td><td style=\"width:0.1%\"></td><td style=\"width:1.0%\"></td><td style=\"width:11.619%\"></td><td style=\"width:0.1%\"></td><td style=\"width:0.1%\"></td><td style=\"width:0.530%\"></td><td style=\"width:0.1%\"></td><td style=\"width:1.0%\"></td><td style=\"width:11.622%\"></td><td style=\"width:0.1%\"></td></tr><tr><td colspan=\"3\" style=\"padding:0 1pt\"></td><td colspan=\"15\" style=\"padding:2px 1pt;text-align:center;vertical-align:bottom\"><span style=\"color:#000000;font-family:\\'Helvetica\\',sans-serif;font-size:8pt;font-weight:700;line-height:100%\">Years ended</span></td></tr><tr><td colspan=\"3\" style=\"padding:0 1pt\"></td><td colspan=\"3\" style=\"border-top:1pt solid #000000;padding:2px 1pt;text-align:center;vertical-align:bottom\"><span style=\"color:#000000;font-family:\\'Helvetica\\',sans-serif;font-size:8pt;font-weight:700;line-height:100%\">September 28,<br/>2024</span></td><td colspan=\"3\" style=\"border-top:1pt solid #000000;padding:0 1pt\"></td><td colspan=\"3\" style=\"border-top:1pt solid #000000;padding:2px 1pt;text-align:center;vertical-align:bottom\"><span style=\"color:#000000;font-family:\\'Helvetica\\',sans-serif;font-size:8pt;font-weight:700;line-height:100%\">September 30,<br/>2023</span></td><td colspan=\"3\" style=\"border-top:1pt solid #000000;padding:0 1pt\"></td><td colspan=\"3\" style=\"border-top:1pt solid #000000;padding:2px 1pt;text-align:center;vertical-align:bottom\"><span style=\"color:#000000;font-family:\\'Helvetica\\',sans-serif;font-size:8pt;font-weight:700;line-height:100%\">September 24,<br/>2022</span></td></tr><tr><td colspan=\"3\" style=\"padding:2px 1pt 2px 10pt;text-align:left;text-indent:-9pt;vertical-align:bottom\"><span style=\"color:#000000;font-family:\\'Helvetica\\',sans-serif;font-size:9pt;font-weight:400;line-height:100%\">Net income</span></td><td style=\"border-top:1pt solid #000000;padding:2px 0 2px 1pt;text-align:left;vertical-align:bottom\"><span style=\"color:#000000;font-family:\\'Helvetica\\',sans-serif;font-size:9pt;font-weight:400;line-height:100%\">$</span></td><td style=\"border-top:1pt solid #000000;padding:2px 0;text-align:right;vertical-align:bottom\"><span style=\"color:#000000;font-family:\\'Helvetica\\',sans-serif;font-size:9pt;font-weight:400;line-height:100%\"><ix:nonfraction contextref=\"c-1\" decimals=\"-6\" format=\"ixt:num-dot-decimal\" id=\"f-117\" name=\"us-gaap:NetIncomeLoss\" scale=\"6\" unitref=\"usd\">93,736</ix:nonfraction>\\xa0</span></td><td style=\"border-top:1pt solid #000000;padding:2px 1pt 2px 0;text-align:right;vertical-align:bottom\"></td><td colspan=\"3\" style=\"padding:0 1pt\"></td><td style=\"border-top:1pt solid #000000;padding:2px 0 2px 1pt;text-align:left;vertical-align:bottom\"><span style=\"color:#000000;font-family:\\'Helvetica\\',sans-serif;font-size:9pt;font-weight:400;line-height:100%\">$</span></td><td style=\"border-top:1pt solid #000000;padding:2px 0;text-align:right;vertical-align:bottom\"><span style=\"color:#000000;font-family:\\'Helvetica\\',sans-serif;font-size:9pt;font-weight:400;line-height:100%\"><ix:nonfraction contextref=\"c-19\" decimals=\"-6\" format=\"ixt:num-dot-decimal\" id=\"f-118\" name=\"us-gaap:NetIncomeLoss\" scale=\"6\" unitref=\"usd\">96,995</ix:nonfraction>\\xa0</span></td><td style=\"border-top:1pt solid #000000;padding:2px 1pt 2px 0;text-align:right;vertical-align:bottom\"></td><td colspan=\"3\" style=\"padding:0 1pt\"></td><td style=\"border-top:1pt solid #000000;padding:2px 0 2px 1pt;text-align:left;vertical-align:bottom\"><span style=\"color:#000000;font-family:\\'Helvetica\\',sans-serif;font-size:9pt;font-weight:400;line-height:100%\">$</span></td><td style=\"border-top:1pt solid #000000;padding:2px 0;text-align:right;vertical-align:bottom\"><span style=\"color:#000000;font-family:\\'Helvetica\\',sans-serif;font-size:9pt;font-weight:400;line-height:100%\"><ix:nonfraction contextref=\"c-20\" decimals=\"-6\" format=\"ixt:num-dot-decimal\" id=\"f-119\" name=\"us-gaap:NetIncomeLoss\" scale=\"6\" unitref=\"usd\">99,803</ix:nonfraction>\\xa0</span></td><td style=\"border-top:1pt solid #000000;padding:2px 1pt 2px 0;text-align:right;vertical-align:bottom\"></td></tr><tr><td colspan=\"3\" style=\"background-color:#efefef;padding:2px 1pt;text-align:left;vertical-align:bottom\"><span style=\"color:#000000;font-family:\\'Helvetica\\',sans-serif;font-size:9pt;font-weight:400;line-height:100%\">Other comprehensive income/(loss):</span></td><td colspan=\"3\" style=\"background-color:#efefef;border-top:1pt solid #000000;padding:0 1pt\"></td><td colspan=\"3\" style=\"background-color:#efefef;padding:0 1pt\"></td><td colspan=\"3\" style=\"background-color:#efefef;border-top:1pt solid #000000;padding:0 1pt\"></td><td colspan=\"3\" style=\"background-color:#efefef;padding:0 1pt\"></td><td colspan=\"3\" style=\"background-color:#efefef;border-top:1pt solid #000000;padding:0 1pt\"></td></tr><tr><td colspan=\"3\" style=\"background-color:#ffffff;padding:2px 1pt 2px 28pt;text-align:left;text-indent:-9pt;vertical-align:bottom\"><span style=\"color:#000000;font-family:\\'Helvetica\\',sans-serif;font-size:9pt;font-weight:400;line-height:100%\">Change in foreign currency translation, net of tax</span></td><td colspan=\"2\" style=\"background-color:#ffffff;padding:2px 0 2px 1pt;text-align:right;vertical-align:bottom\"><span style=\"color:#000000;font-family:\\'Helvetica\\',sans-serif;font-size:9pt;font-weight:400;line-height:100%\"><ix:nonfraction contextref=\"c-1\" decimals=\"-6\" id=\"f-120\" name=\"us-gaap:OtherComprehensiveIncomeLossForeignCurrencyTransactionAndTranslationAdjustmentNetOfTax\" scale=\"6\" unitref=\"usd\">395</ix:nonfraction>\\xa0</span></td><td style=\"background-color:#ffffff;padding:2px 1pt 2px 0;text-align:right;vertical-align:bottom\"></td><td colspan=\"3\" style=\"background-color:#ffffff;padding:0 1pt\"></td><td colspan=\"2\" style=\"background-color:#ffffff;padding:2px 0 2px 1pt;text-align:right;vertical-align:bottom\"><span style=\"color:#000000;font-family:\\'Helvetica\\',sans-serif;font-size:9pt;font-weight:400;line-height:100%\">(<ix:nonfraction contextref=\"c-19\" decimals=\"-6\" id=\"f-121\" name=\"us-gaap:OtherComprehensiveIncomeLossForeignCurrencyTransactionAndTranslationAdjustmentNetOfTax\" scale=\"6\" sign=\"-\" unitref=\"usd\">765</ix:nonfraction>)</span></td><td style=\"background-color:#ffffff;padding:2px 1pt 2px 0;text-align:right;vertical-align:bottom\"></td><td colspan=\"3\" style=\"background-color:#ffffff;padding:0 1pt\"></td><td colspan=\"2\" style=\"background-color:#ffffff;padding:2px 0 2px 1pt;text-align:right;vertical-align:bottom\"><span style=\"color:#000000;font-family:\\'Helvetica\\',sans-serif;font-size:9pt;font-weight:400;line-height:100%\">(<ix:nonfraction contextref=\"c-20\" decimals=\"-6\" format=\"ixt:num-dot-decimal\" id=\"f-122\" name=\"us-gaap:OtherComprehensiveIncomeLossForeignCurrencyTransactionAndTranslationAdjustmentNetOfTax\" scale=\"6\" sign=\"-\" unitref=\"usd\">1,511</ix:nonfraction>)</span></td><td style=\"background-color:#ffffff;padding:2px 1pt 2px 0;text-align:right;vertical-align:bottom\"></td></tr><tr style=\"height:14pt\"><td colspan=\"3\" style=\"background-color:#efefef;padding:0 1pt\"></td><td colspan=\"3\" style=\"background-color:#efefef;padding:0 1pt\"></td><td colspan=\"3\" style=\"background-color:#efefef;padding:0 1pt\"></td><td colspan=\"3\" style=\"background-color:#efefef;padding:0 1pt\"></td><td colspan=\"3\" style=\"background-color:#efefef;padding:0 1pt\"></td><td colspan=\"3\" style=\"background-color:#efefef;padding:0 1pt\"></td></tr><tr><td colspan=\"3\" style=\"background-color:#ffffff;padding:2px 1pt 2px 28pt;text-align:left;text-indent:-9pt;vertical-align:bottom\"><span style=\"color:#000000;font-family:\\'Helvetica\\',sans-serif;font-size:9pt;font-weight:400;line-height:100%\">Change in unrealized gains/losses on derivative instruments, net of tax:</span></td><td colspan=\"3\" style=\"background-color:#ffffff;padding:0 1pt\"></td><td colspan=\"3\" style=\"background-color:#ffffff;padding:0 1pt\"></td><td colspan=\"3\" style=\"background-color:#ffffff;padding:0 1pt\"></td><td colspan=\"3\" style=\"background-color:#ffffff;padding:0 1pt\"></td><td colspan=\"3\" style=\"background-color:#ffffff;padding:0 1pt\"></td></tr><tr><td colspan=\"3\" style=\"background-color:#efefef;padding:2px 1pt 2px 46pt;text-align:left;text-indent:-9pt;vertical-align:bottom\"><span style=\"color:#000000;font-family:\\'Helvetica\\',sans-serif;font-size:9pt;font-weight:400;line-height:100%\">Change in fair value of derivative instruments</span></td><td colspan=\"2\" style=\"background-color:#efefef;padding:2px 0 2px 1pt;text-align:right;vertical-align:bottom\"><span style=\"color:#000000;font-family:\\'Helvetica\\',sans-serif;font-size:9pt;font-weight:400;line-height:100%\">(<ix:nonfraction contextref=\"c-1\" decimals=\"-6\" id=\"f-123\" name=\"aapl:OtherComprehensiveIncomeLossDerivativeInstrumentGainLossbeforeReclassificationafterTax\" scale=\"6\" sign=\"-\" unitref=\"usd\">832</ix:nonfraction>)</span></td><td style=\"background-color:#efefef;padding:2px 1pt 2px 0;text-align:right;vertical-align:bottom\"></td><td colspan=\"3\" style=\"background-color:#efefef;padding:0 1pt\"></td><td colspan=\"2\" style=\"background-color:#efefef;padding:2px 0 2px 1pt;text-align:right;vertical-align:bottom\"><span style=\"color:#000000;font-family:\\'Helvetica\\',sans-serif;font-size:9pt;font-weight:400;line-height:100%\"><ix:nonfraction contextref=\"c-19\" decimals=\"-6\" id=\"f-124\" name=\"aapl:OtherComprehensiveIncomeLossDerivativeInstrumentGainLossbeforeReclassificationafterTax\" scale=\"6\" unitref=\"usd\">323</ix:nonfraction>\\xa0</span></td><td style=\"background-color:#efefef;padding:2px 1pt 2px 0;text-align:right;vertical-align:bottom\"></td><td colspan=\"3\" style=\"background-color:#efefef;padding:0 1pt\"></td><td colspan=\"2\" style=\"background-color:#efefef;padding:2px 0 2px 1pt;text-align:right;vertical-align:bottom\"><span style=\"color:#000000;font-family:\\'Helvetica\\',sans-serif;font-size:9pt;font-weight:400;line-height:100%\"><ix:nonfraction contextref=\"c-20\" decimals=\"-6\" format=\"ixt:num-dot-decimal\" id=\"f-125\" name=\"aapl:OtherComprehensiveIncomeLossDerivativeInstrumentGainLossbeforeReclassificationafterTax\" scale=\"6\" unitref=\"usd\">3,212</ix:nonfraction>\\xa0</span></td><td style=\"background-color:#efefef;padding:2px 1pt 2px 0;text-align:right;vertical-align:bottom\"></td></tr><tr><td colspan=\"3\" style=\"background-color:#ffffff;padding:2px 1pt 2px 46pt;text-align:left;text-indent:-9pt;vertical-align:bottom\"><span style=\"color:#000000;font-family:\\'Helvetica\\',sans-serif;font-size:9pt;font-weight:400;line-height:100%\">Adjustment for net (gains)/losses realized and included in net income</span></td><td colspan=\"2\" style=\"background-color:#ffffff;padding:2px 0 2px 1pt;text-align:right;vertical-align:bottom\"><span style=\"color:#000000;font-family:\\'Helvetica\\',sans-serif;font-size:9pt;font-weight:400;line-height:100%\">(<ix:nonfraction contextref=\"c-1\" decimals=\"-6\" format=\"ixt:num-dot-decimal\" id=\"f-126\" name=\"aapl:OtherComprehensiveIncomeLossDerivativeInstrumentGainLossReclassificationAfterTax\" scale=\"6\" unitref=\"usd\">1,337</ix:nonfraction>)</span></td><td style=\"background-color:#ffffff;padding:2px 1pt 2px 0;text-align:right;vertical-align:bottom\"></td><td colspan=\"3\" style=\"background-color:#ffffff;padding:0 1pt\"></td><td colspan=\"2\" style=\"background-color:#ffffff;padding:2px 0 2px 1pt;text-align:right;vertical-align:bottom\"><span style=\"color:#000000;font-family:\\'Helvetica\\',sans-serif;font-size:9pt;font-weight:400;line-height:100%\">(<ix:nonfraction contextref=\"c-19\" decimals=\"-6\" format=\"ixt:num-dot-decimal\" id=\"f-127\" name=\"aapl:OtherComprehensiveIncomeLossDerivativeInstrumentGainLossReclassificationAfterTax\" scale=\"6\" unitref=\"usd\">1,717</ix:nonfraction>)</span></td><td style=\"background-color:#ffffff;padding:2px 1pt 2px 0;text-align:right;vertical-align:bottom\"></td><td colspan=\"3\" style=\"background-color:#ffffff;padding:0 1pt\"></td><td colspan=\"2\" style=\"background-color:#ffffff;padding:2px 0 2px 1pt;text-align:right;vertical-align:bottom\"><span style=\"color:#000000;font-family:\\'Helvetica\\',sans-serif;font-size:9pt;font-weight:400;line-height:100%\">(<ix:nonfraction contextref=\"c-20\" decimals=\"-6\" format=\"ixt:num-dot-decimal\" id=\"f-128\" name=\"aapl:OtherComprehensiveIncomeLossDerivativeInstrumentGainLossReclassificationAfterTax\" scale=\"6\" unitref=\"usd\">1,074</ix:nonfraction>)</span></td><td style=\"background-color:#ffffff;padding:2px 1pt 2px 0;text-align:right;vertical-align:bottom\"></td></tr><tr><td colspan=\"3\" style=\"background-color:#efefef;padding:2px 1pt 2px 70.75pt;text-align:left;text-indent:-9pt;vertical-align:bottom\"><span style=\"color:#000000;font-family:\\'Helvetica\\',sans-serif;font-size:9pt;font-weight:400;line-height:100%\">Total change in unrealized gains/losses on derivative instruments</span></td><td colspan=\"2\" style=\"background-color:#efefef;border-top:1pt solid #000000;padding:2px 0 2px 1pt;text-align:right;vertical-align:bottom\"><span style=\"color:#000000;font-family:\\'Helvetica\\',sans-serif;font-size:9pt;font-weight:400;line-height:100%\">(<ix:nonfraction contextref=\"c-1\" decimals=\"-6\" format=\"ixt:num-dot-decimal\" id=\"f-129\" name=\"aapl:OtherComprehensiveIncomeLossDerivativeInstrumentGainLossafterReclassificationandTax\" scale=\"6\" sign=\"-\" unitref=\"usd\">2,169</ix:nonfraction>)</span></td><td style=\"background-color:#efefef;border-top:1pt solid #000000;padding:2px 1pt 2px 0;text-align:right;vertical-align:bottom\"></td><td colspan=\"3\" style=\"background-color:#efefef;padding:0 1pt\"></td><td colspan=\"2\" style=\"background-color:#efefef;border-top:1pt solid #000000;padding:2px 0 2px 1pt;text-align:right;vertical-align:bottom\"><span style=\"color:#000000;font-family:\\'Helvetica\\',sans-serif;font-size:9pt;font-weight:400;line-height:100%\">(<ix:nonfraction contextref=\"c-19\" decimals=\"-6\" format=\"ixt:num-dot-decimal\" id=\"f-130\" name=\"aapl:OtherComprehensiveIncomeLossDerivativeInstrumentGainLossafterReclassificationandTax\" scale=\"6\" sign=\"-\" unitref=\"usd\">1,394</ix:nonfraction>)</span></td><td style=\"background-color:#efefef;border-top:1pt solid #000000;padding:2px 1pt 2px 0;text-align:right;vertical-align:bottom\"></td><td colspan=\"3\" style=\"background-color:#efefef;padding:0 1pt\"></td><td colspan=\"2\" style=\"background-color:#efefef;border-top:1pt solid #000000;padding:2px 0 2px 1pt;text-align:right;vertical-align:bottom\"><span style=\"color:#000000;font-family:\\'Helvetica\\',sans-serif;font-size:9pt;font-weight:400;line-height:100%\"><ix:nonfraction contextref=\"c-20\" decimals=\"-6\" format=\"ixt:num-dot-decimal\" id=\"f-131\" name=\"aapl:OtherComprehensiveIncomeLossDerivativeInstrumentGainLossafterReclassificationandTax\" scale=\"6\" unitref=\"usd\">2,138</ix:nonfraction>\\xa0</span></td><td style=\"background-color:#efefef;border-top:1pt solid #000000;padding:2px 1pt 2px 0;text-align:right;vertical-align:bottom\"></td></tr><tr style=\"height:14pt\"><td colspan=\"3\" style=\"background-color:#ffffff;padding:0 1pt\"></td><td colspan=\"3\" style=\"background-color:#ffffff;border-top:1pt solid #000000;padding:0 1pt\"></td><td colspan=\"3\" style=\"background-color:#ffffff;padding:0 1pt\"></td><td colspan=\"3\" style=\"background-color:#ffffff;border-top:1pt solid #000000;padding:0 1pt\"></td><td colspan=\"3\" style=\"background-color:#ffffff;padding:0 1pt\"></td><td colspan=\"3\" style=\"background-color:#ffffff;border-top:1pt solid #000000;padding:0 1pt\"></td></tr><tr><td colspan=\"3\" style=\"background-color:#efefef;padding:2px 1pt 2px 28pt;text-align:left;text-indent:-9pt;vertical-align:bottom\"><span style=\"color:#000000;font-family:\\'Helvetica\\',sans-serif;font-size:9pt;font-weight:400;line-height:100%\">Change in unrealized gains/losses on marketable debt securities, net of tax:</span></td><td colspan=\"3\" style=\"background-color:#efefef;padding:0 1pt\"></td><td colspan=\"3\" style=\"background-color:#efefef;padding:0 1pt\"></td><td colspan=\"3\" style=\"background-color:#efefef;padding:0 1pt\"></td><td colspan=\"3\" style=\"background-color:#efefef;padding:0 1pt\"></td><td colspan=\"3\" style=\"background-color:#efefef;padding:0 1pt\"></td></tr><tr><td colspan=\"3\" style=\"background-color:#ffffff;padding:2px 1pt 2px 46pt;text-align:left;text-indent:-9pt;vertical-align:bottom\"><span style=\"color:#000000;font-family:\\'Helvetica\\',sans-serif;font-size:9pt;font-weight:400;line-height:100%\">Change in fair value of marketable debt securities</span></td><td colspan=\"2\" style=\"background-color:#ffffff;padding:2px 0 2px 1pt;text-align:right;vertical-align:bottom\"><span style=\"color:#000000;font-family:\\'Helvetica\\',sans-serif;font-size:9pt;font-weight:400;line-height:100%\"><ix:nonfraction contextref=\"c-1\" decimals=\"-6\" format=\"ixt:num-dot-decimal\" id=\"f-132\" name=\"us-gaap:OtherComprehensiveIncomeUnrealizedHoldingGainLossOnSecuritiesArisingDuringPeriodNetOfTax\" scale=\"6\" unitref=\"usd\">5,850</ix:nonfraction>\\xa0</span></td><td style=\"background-color:#ffffff;padding:2px 1pt 2px 0;text-align:right;vertical-align:bottom\"></td><td colspan=\"3\" style=\"background-color:#ffffff;padding:0 1pt\"></td><td colspan=\"2\" style=\"background-color:#ffffff;padding:2px 0 2px 1pt;text-align:right;vertical-align:bottom\"><span style=\"color:#000000;font-family:\\'Helvetica\\',sans-serif;font-size:9pt;font-weight:400;line-height:100%\"><ix:nonfraction contextref=\"c-19\" decimals=\"-6\" format=\"ixt:num-dot-decimal\" id=\"f-133\" name=\"us-gaap:OtherComprehensiveIncomeUnrealizedHoldingGainLossOnSecuritiesArisingDuringPeriodNetOfTax\" scale=\"6\" unitref=\"usd\">1,563</ix:nonfraction>\\xa0</span></td><td style=\"background-color:#ffffff;padding:2px 1pt 2px 0;text-align:right;vertical-align:bottom\"></td><td colspan=\"3\" style=\"background-color:#ffffff;padding:0 1pt\"></td><td colspan=\"2\" style=\"background-color:#ffffff;padding:2px 0 2px 1pt;text-align:right;vertical-align:bottom\"><span style=\"color:#000000;font-family:\\'Helvetica\\',sans-serif;font-size:9pt;font-weight:400;line-height:100%\">(<ix:nonfraction contextref=\"c-20\" decimals=\"-6\" format=\"ixt:num-dot-decimal\" id=\"f-134\" name=\"us-gaap:OtherComprehensiveIncomeUnrealizedHoldingGainLossOnSecuritiesArisingDuringPeriodNetOfTax\" scale=\"6\" sign=\"-\" unitref=\"usd\">12,104</ix:nonfraction>)</span></td><td style=\"background-color:#ffffff;padding:2px 1pt 2px 0;text-align:right;vertical-align:bottom\"></td></tr><tr><td colspan=\"3\" style=\"background-color:#efefef;padding:2px 1pt 2px 46pt;text-align:left;text-indent:-9pt;vertical-align:bottom\"><span style=\"color:#000000;font-family:\\'Helvetica\\',sans-serif;font-size:9pt;font-weight:400;line-height:100%\">Adjustment for net (gains)/losses realized and included in net income</span></td><td colspan=\"2\" style=\"background-color:#efefef;padding:2px 0 2px 1pt;text-align:right;vertical-align:bottom\"><span style=\"color:#000000;font-family:\\'Helvetica\\',sans-serif;font-size:9pt;font-weight:400;line-height:100%\"><ix:nonfraction contextref=\"c-1\" decimals=\"-6\" id=\"f-135\" name=\"us-gaap:OtherComprehensiveIncomeLossReclassificationAdjustmentFromAOCIForSaleOfSecuritiesNetOfTax\" scale=\"6\" sign=\"-\" unitref=\"usd\">204</ix:nonfraction>\\xa0</span></td><td style=\"background-color:#efefef;padding:2px 1pt 2px 0;text-align:right;vertical-align:bottom\"></td><td colspan=\"3\" style=\"background-color:#efefef;padding:0 1pt\"></td><td colspan=\"2\" style=\"background-color:#efefef;padding:2px 0 2px 1pt;text-align:right;vertical-align:bottom\"><span style=\"color:#000000;font-family:\\'Helvetica\\',sans-serif;font-size:9pt;font-weight:400;line-height:100%\"><ix:nonfraction contextref=\"c-19\" decimals=\"-6\" id=\"f-136\" name=\"us-gaap:OtherComprehensiveIncomeLossReclassificationAdjustmentFromAOCIForSaleOfSecuritiesNetOfTax\" scale=\"6\" sign=\"-\" unitref=\"usd\">253</ix:nonfraction>\\xa0</span></td><td style=\"background-color:#efefef;padding:2px 1pt 2px 0;text-align:right;vertical-align:bottom\"></td><td colspan=\"3\" style=\"background-color:#efefef;padding:0 1pt\"></td><td colspan=\"2\" style=\"background-color:#efefef;padding:2px 0 2px 1pt;text-align:right;vertical-align:bottom\"><span style=\"color:#000000;font-family:\\'Helvetica\\',sans-serif;font-size:9pt;font-weight:400;line-height:100%\"><ix:nonfraction contextref=\"c-20\" decimals=\"-6\" id=\"f-137\" name=\"us-gaap:OtherComprehensiveIncomeLossReclassificationAdjustmentFromAOCIForSaleOfSecuritiesNetOfTax\" scale=\"6\" sign=\"-\" unitref=\"usd\">205</ix:nonfraction>\\xa0</span></td><td style=\"background-color:#efefef;padding:2px 1pt 2px 0;text-align:right;vertical-align:bottom\"></td></tr><tr><td colspan=\"3\" style=\"background-color:#ffffff;padding:2px 1pt 2px 70.75pt;text-align:left;text-indent:-9pt;vertical-align:bottom\"><span style=\"color:#000000;font-family:\\'Helvetica\\',sans-serif;font-size:9pt;font-weight:400;line-height:100%\">Total change in unrealized gains/losses on marketable debt securities</span></td><td colspan=\"2\" style=\"background-color:#ffffff;border-top:1pt solid #000000;padding:2px 0 2px 1pt;text-align:right;vertical-align:bottom\"><span style=\"color:#000000;font-family:\\'Helvetica\\',sans-serif;font-size:9pt;font-weight:400;line-height:100%\"><ix:nonfraction contextref=\"c-1\" decimals=\"-6\" format=\"ixt:num-dot-decimal\" id=\"f-138\" name=\"us-gaap:OtherComprehensiveIncomeLossAvailableForSaleSecuritiesAdjustmentNetOfTax\" scale=\"6\" unitref=\"usd\">6,054</ix:nonfraction>\\xa0</span></td><td style=\"background-color:#ffffff;border-top:1pt solid #000000;padding:2px 1pt 2px 0;text-align:right;vertical-align:bottom\"></td><td colspan=\"3\" style=\"background-color:#ffffff;padding:0 1pt\"></td><td colspan=\"2\" style=\"background-color:#ffffff;border-top:1pt solid #000000;padding:2px 0 2px 1pt;text-align:right;vertical-align:bottom\"><span style=\"color:#000000;font-family:\\'Helvetica\\',sans-serif;font-size:9pt;font-weight:400;line-height:100%\"><ix:nonfraction contextref=\"c-19\" decimals=\"-6\" format=\"ixt:num-dot-decimal\" id=\"f-139\" name=\"us-gaap:OtherComprehensiveIncomeLossAvailableForSaleSecuritiesAdjustmentNetOfTax\" scale=\"6\" unitref=\"usd\">1,816</ix:nonfraction>\\xa0</span></td><td style=\"background-color:#ffffff;border-top:1pt solid #000000;padding:2px 1pt 2px 0;text-align:right;vertical-align:bottom\"></td><td colspan=\"3\" style=\"background-color:#ffffff;padding:0 1pt\"></td><td colspan=\"2\" style=\"background-color:#ffffff;border-top:1pt solid #000000;padding:2px 0 2px 1pt;text-align:right;vertical-align:bottom\"><span style=\"color:#000000;font-family:\\'Helvetica\\',sans-serif;font-size:9pt;font-weight:400;line-height:100%\">(<ix:nonfraction contextref=\"c-20\" decimals=\"-6\" format=\"ixt:num-dot-decimal\" id=\"f-140\" name=\"us-gaap:OtherComprehensiveIncomeLossAvailableForSaleSecuritiesAdjustmentNetOfTax\" scale=\"6\" sign=\"-\" unitref=\"usd\">11,899</ix:nonfraction>)</span></td><td style=\"background-color:#ffffff;border-top:1pt solid #000000;padding:2px 1pt 2px 0;text-align:right;vertical-align:bottom\"></td></tr><tr style=\"height:14pt\"><td colspan=\"3\" style=\"background-color:#efefef;padding:0 1pt\"></td><td colspan=\"3\" style=\"background-color:#efefef;border-top:1pt solid #000000;padding:0 1pt\"></td><td colspan=\"3\" style=\"background-color:#efefef;padding:0 1pt\"></td><td colspan=\"3\" style=\"background-color:#efefef;border-top:1pt solid #000000;padding:0 1pt\"></td><td colspan=\"3\" style=\"background-color:#efefef;padding:0 1pt\"></td><td colspan=\"3\" style=\"background-color:#efefef;border-top:1pt solid #000000;padding:0 1pt\"></td></tr><tr><td colspan=\"3\" style=\"background-color:#ffffff;padding:2px 1pt;text-align:left;vertical-align:bottom\"><span style=\"color:#000000;font-family:\\'Helvetica\\',sans-serif;font-size:9pt;font-weight:400;line-height:100%\">Total other comprehensive income/(loss)</span></td><td colspan=\"2\" style=\"background-color:#ffffff;padding:2px 0 2px 1pt;text-align:right;vertical-align:bottom\"><span style=\"color:#000000;font-family:\\'Helvetica\\',sans-serif;font-size:9pt;font-weight:400;line-height:100%\"><ix:nonfraction contextref=\"c-1\" decimals=\"-6\" format=\"ixt:num-dot-decimal\" id=\"f-141\" name=\"us-gaap:OtherComprehensiveIncomeLossNetOfTaxPortionAttributableToParent\" scale=\"6\" unitref=\"usd\">4,280</ix:nonfraction>\\xa0</span></td><td style=\"background-color:#ffffff;padding:2px 1pt 2px 0;text-align:right;vertical-align:bottom\"></td><td colspan=\"3\" style=\"background-color:#ffffff;padding:0 1pt\"></td><td colspan=\"2\" style=\"background-color:#ffffff;padding:2px 0 2px 1pt;text-align:right;vertical-align:bottom\"><span style=\"color:#000000;font-family:\\'Helvetica\\',sans-serif;font-size:9pt;font-weight:400;line-height:100%\">(<ix:nonfraction contextref=\"c-19\" decimals=\"-6\" id=\"f-142\" name=\"us-gaap:OtherComprehensiveIncomeLossNetOfTaxPortionAttributableToParent\" scale=\"6\" sign=\"-\" unitref=\"usd\">343</ix:nonfraction>)</span></td><td style=\"background-color:#ffffff;padding:2px 1pt 2px 0;text-align:right;vertical-align:bottom\"></td><td colspan=\"3\" style=\"background-color:#ffffff;padding:0 1pt\"></td><td colspan=\"2\" style=\"background-color:#ffffff;padding:2px 0 2px 1pt;text-align:right;vertical-align:bottom\"><span style=\"color:#000000;font-family:\\'Helvetica\\',sans-serif;font-size:9pt;font-weight:400;line-height:100%\">(<ix:nonfraction contextref=\"c-20\" decimals=\"-6\" format=\"ixt:num-dot-decimal\" id=\"f-143\" name=\"us-gaap:OtherComprehensiveIncomeLossNetOfTaxPortionAttributableToParent\" scale=\"6\" sign=\"-\" unitref=\"usd\">11,272</ix:nonfraction>)</span></td><td style=\"background-color:#ffffff;padding:2px 1pt 2px 0;text-align:right;vertical-align:bottom\"></td></tr><tr><td colspan=\"3\" style=\"background-color:#efefef;padding:2px 1pt 2px 10pt;text-align:left;text-indent:-9pt;vertical-align:top\"><span style=\"color:#000000;font-family:\\'Helvetica\\',sans-serif;font-size:9pt;font-weight:400;line-height:100%\">Total comprehensive income</span></td><td style=\"background-color:#efefef;border-bottom:3pt double #000000;border-top:1pt solid #000000;padding:2px 0 2px 1pt;text-align:left;vertical-align:bottom\"><span style=\"color:#000000;font-family:\\'Helvetica\\',sans-serif;font-size:9pt;font-weight:400;line-height:100%\">$</span></td><td style=\"background-color:#efefef;border-bottom:3pt double #000000;border-top:1pt solid #000000;padding:2px 0;text-align:right;vertical-align:bottom\"><span style=\"color:#000000;font-family:\\'Helvetica\\',sans-serif;font-size:9pt;font-weight:400;line-height:100%\"><ix:nonfraction contextref=\"c-1\" decimals=\"-6\" format=\"ixt:num-dot-decimal\" id=\"f-144\" name=\"us-gaap:ComprehensiveIncomeNetOfTax\" scale=\"6\" unitref=\"usd\">98,016</ix:nonfraction>\\xa0</span></td><td style=\"background-color:#efefef;border-bottom:3pt double #000000;border-top:1pt solid #000000;padding:2px 1pt 2px 0;text-align:right;vertical-align:bottom\"></td><td colspan=\"3\" style=\"background-color:#efefef;padding:0 1pt\"></td><td style=\"background-color:#efefef;border-bottom:3pt double #000000;border-top:1pt solid #000000;padding:2px 0 2px 1pt;text-align:left;vertical-align:bottom\"><span style=\"color:#000000;font-family:\\'Helvetica\\',sans-serif;font-size:9pt;font-weight:400;line-height:100%\">$</span></td><td style=\"background-color:#efefef;border-bottom:3pt double #000000;border-top:1pt solid #000000;padding:2px 0;text-align:right;vertical-align:bottom\"><span style=\"color:#000000;font-family:\\'Helvetica\\',sans-serif;font-size:9pt;font-weight:400;line-height:100%\"><ix:nonfraction contextref=\"c-19\" decimals=\"-6\" format=\"ixt:num-dot-decimal\" id=\"f-145\" name=\"us-gaap:ComprehensiveIncomeNetOfTax\" scale=\"6\" unitref=\"usd\">96,652</ix:nonfraction>\\xa0</span></td><td style=\"background-color:#efefef;border-bottom:3pt double #000000;border-top:1pt solid #000000;padding:2px 1pt 2px 0;text-align:right;vertical-align:bottom\"></td><td colspan=\"3\" style=\"background-color:#efefef;padding:0 1pt\"></td><td style=\"background-color:#efefef;border-bottom:3pt double #000000;border-top:1pt solid #000000;padding:2px 0 2px 1pt;text-align:left;vertical-align:bottom\"><span style=\"color:#000000;font-family:\\'Helvetica\\',sans-serif;font-size:9pt;font-weight:400;line-height:100%\">$</span></td><td style=\"background-color:#efefef;border-bottom:3pt double #000000;border-top:1pt solid #000000;padding:2px 0;text-align:right;vertical-align:bottom\"><span style=\"color:#000000;font-family:\\'Helvetica\\',sans-serif;font-size:9pt;font-weight:400;line-height:100%\"><ix:nonfraction contextref=\"c-20\" decimals=\"-6\" format=\"ixt:num-dot-decimal\" id=\"f-146\" name=\"us-gaap:ComprehensiveIncomeNetOfTax\" scale=\"6\" unitref=\"usd\">88,531</ix:nonfraction>\\xa0</span></td><td style=\"background-color:#efefef;border-bottom:3pt double #000000;border-top:1pt solid #000000;padding:2px 1pt 2px 0;text-align:right;vertical-align:bottom\"></td></tr></table></div>'"
      ]
     },
     "execution_count": 120,
     "metadata": {},
     "output_type": "execute_result"
    }
   ],
   "source": [
    "sentences_numeric[59]"
   ]
  },
  {
   "cell_type": "code",
   "execution_count": 121,
   "id": "1c5abd42-ee9f-42b5-8070-c465bb29d1f0",
   "metadata": {},
   "outputs": [
    {
     "data": {
      "text/plain": [
       "'Years ended September 28, 2024 September 30, 2023 September 24, 2022 Net income $ 93,736 $ 96,995 $ 99,803 Other comprehensive income/(loss): Change in foreign currency translation, net of tax 395 ( 765 ) ( 1,511 ) Change in unrealized gains/losses on derivative instruments, net of tax: Change in fair value of derivative instruments ( 832 ) 323 3,212 Adjustment for net (gains)/losses realized and included in net income ( 1,337 ) ( 1,717 ) ( 1,074 ) Total change in unrealized gains/losses on derivative instruments ( 2,169 ) ( 1,394 ) 2,138 Change in unrealized gains/losses on marketable debt securities, net of tax: Change in fair value of marketable debt securities 5,850 1,563 ( 12,104 ) Adjustment for net (gains)/losses realized and included in net income 204 253 205 Total change in unrealized gains/losses on marketable debt securities 6,054 1,816 ( 11,899 ) Total other comprehensive income/(loss) 4,280 ( 343 ) ( 11,272 ) Total comprehensive income $ 98,016 $ 96,652 $ 88,531'"
      ]
     },
     "execution_count": 121,
     "metadata": {},
     "output_type": "execute_result"
    }
   ],
   "source": [
    "sentence_non_numeric[59]"
   ]
  },
  {
   "cell_type": "code",
   "execution_count": 72,
   "id": "55e7012b-3209-40da-9ac5-4454a1cc2fdb",
   "metadata": {},
   "outputs": [
    {
     "data": {
      "text/plain": [
       "'5,760'"
      ]
     },
     "execution_count": 72,
     "metadata": {},
     "output_type": "execute_result"
    }
   ],
   "source": [
    "sentences[3000]"
   ]
  },
  {
   "cell_type": "code",
   "execution_count": 58,
   "id": "e58b5747-e545-4ea7-9cc0-08feaea3566c",
   "metadata": {},
   "outputs": [
    {
     "data": {
      "text/plain": [
       "6699"
      ]
     },
     "execution_count": 58,
     "metadata": {},
     "output_type": "execute_result"
    }
   ],
   "source": [
    "len(flag)"
   ]
  },
  {
   "cell_type": "code",
   "execution_count": 59,
   "id": "88e655c8-f7d7-478e-975d-27c937402392",
   "metadata": {},
   "outputs": [
    {
     "data": {
      "text/plain": [
       "6699"
      ]
     },
     "execution_count": 59,
     "metadata": {},
     "output_type": "execute_result"
    }
   ],
   "source": [
    "len(sentences)"
   ]
  },
  {
   "cell_type": "code",
   "execution_count": null,
   "id": "3eea8535-1499-4a6c-88e0-f6ffeb2283e2",
   "metadata": {},
   "outputs": [],
   "source": []
  }
 ],
 "metadata": {
  "kernelspec": {
   "display_name": "my-jupyter-citation",
   "language": "python",
   "name": "my-jupyter-citation"
  },
  "language_info": {
   "codemirror_mode": {
    "name": "ipython",
    "version": 3
   },
   "file_extension": ".py",
   "mimetype": "text/x-python",
   "name": "python",
   "nbconvert_exporter": "python",
   "pygments_lexer": "ipython3",
   "version": "3.11.7"
  }
 },
 "nbformat": 4,
 "nbformat_minor": 5
}
